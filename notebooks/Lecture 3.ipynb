{
 "cells": [
  {
   "cell_type": "markdown",
   "metadata": {},
   "source": [
    "In this notebook, we will \n",
    "  * Create several plots to summarize individual features within our dataset\n",
    "  * Apply several filtering and grouping operations on our pandas DataFrames\n",
    "  * Compare numerical data across different categorical groups\n",
    "  * Summarize our data with summary statistics\n",
    "  \n",
    "We will examine [Austin Bikeshare](https://www.kaggle.com/jboysen/austin-bike) data."
   ]
  },
  {
   "cell_type": "code",
   "execution_count": 99,
   "metadata": {
    "collapsed": true
   },
   "outputs": [],
   "source": [
    "import matplotlib.pyplot as plt\n",
    "import numpy as np\n",
    "import pandas as pd\n",
    "import seaborn as sns\n",
    "\n",
    "%matplotlib inline\n",
    "sns.set()"
   ]
  },
  {
   "cell_type": "code",
   "execution_count": 100,
   "metadata": {
    "collapsed": true
   },
   "outputs": [],
   "source": [
    "# read in data from a csv file\n",
    "df = pd.read_csv('../Data/austin_bikeshare_trips.csv')"
   ]
  },
  {
   "cell_type": "code",
   "execution_count": 101,
   "metadata": {},
   "outputs": [
    {
     "data": {
      "text/html": [
       "<div>\n",
       "<style>\n",
       "    .dataframe thead tr:only-child th {\n",
       "        text-align: right;\n",
       "    }\n",
       "\n",
       "    .dataframe thead th {\n",
       "        text-align: left;\n",
       "    }\n",
       "\n",
       "    .dataframe tbody tr th {\n",
       "        vertical-align: top;\n",
       "    }\n",
       "</style>\n",
       "<table border=\"1\" class=\"dataframe\">\n",
       "  <thead>\n",
       "    <tr style=\"text-align: right;\">\n",
       "      <th></th>\n",
       "      <th>bikeid</th>\n",
       "      <th>checkout_time</th>\n",
       "      <th>duration_minutes</th>\n",
       "      <th>end_station_id</th>\n",
       "      <th>end_station_name</th>\n",
       "      <th>month</th>\n",
       "      <th>start_station_id</th>\n",
       "      <th>start_station_name</th>\n",
       "      <th>start_time</th>\n",
       "      <th>subscriber_type</th>\n",
       "      <th>trip_id</th>\n",
       "      <th>year</th>\n",
       "    </tr>\n",
       "  </thead>\n",
       "  <tbody>\n",
       "    <tr>\n",
       "      <th>0</th>\n",
       "      <td>8.0</td>\n",
       "      <td>19:12:00</td>\n",
       "      <td>41</td>\n",
       "      <td>2565.0</td>\n",
       "      <td>Trinity &amp; 6th Street</td>\n",
       "      <td>3.0</td>\n",
       "      <td>2536.0</td>\n",
       "      <td>Waller &amp; 6th St.</td>\n",
       "      <td>2015-03-19 19:12:00</td>\n",
       "      <td>Walk Up</td>\n",
       "      <td>9900082882</td>\n",
       "      <td>2015.0</td>\n",
       "    </tr>\n",
       "    <tr>\n",
       "      <th>1</th>\n",
       "      <td>141.0</td>\n",
       "      <td>2:06:04</td>\n",
       "      <td>6</td>\n",
       "      <td>2570.0</td>\n",
       "      <td>South Congress &amp; Academy</td>\n",
       "      <td>10.0</td>\n",
       "      <td>2494.0</td>\n",
       "      <td>2nd &amp; Congress</td>\n",
       "      <td>2016-10-30 02:06:04</td>\n",
       "      <td>Local365</td>\n",
       "      <td>12617682</td>\n",
       "      <td>2016.0</td>\n",
       "    </tr>\n",
       "    <tr>\n",
       "      <th>2</th>\n",
       "      <td>578.0</td>\n",
       "      <td>16:28:27</td>\n",
       "      <td>13</td>\n",
       "      <td>2498.0</td>\n",
       "      <td>Convention Center / 4th St. @ MetroRail</td>\n",
       "      <td>3.0</td>\n",
       "      <td>2538.0</td>\n",
       "      <td>Bullock Museum @ Congress &amp; MLK</td>\n",
       "      <td>2016-03-11 16:28:27</td>\n",
       "      <td>Local365</td>\n",
       "      <td>9075366</td>\n",
       "      <td>2016.0</td>\n",
       "    </tr>\n",
       "    <tr>\n",
       "      <th>3</th>\n",
       "      <td>555.0</td>\n",
       "      <td>15:12:00</td>\n",
       "      <td>80</td>\n",
       "      <td>2712.0</td>\n",
       "      <td>Toomey Rd @ South Lamar</td>\n",
       "      <td>11.0</td>\n",
       "      <td>2497.0</td>\n",
       "      <td>Capitol Station / Congress &amp; 11th</td>\n",
       "      <td>2014-11-23 15:12:00</td>\n",
       "      <td>24-Hour Kiosk (Austin B-cycle)</td>\n",
       "      <td>9900319298</td>\n",
       "      <td>2014.0</td>\n",
       "    </tr>\n",
       "    <tr>\n",
       "      <th>4</th>\n",
       "      <td>86.0</td>\n",
       "      <td>15:39:13</td>\n",
       "      <td>25</td>\n",
       "      <td>3377.0</td>\n",
       "      <td>MoPac Pedestrian Bridge @ Veterans Drive</td>\n",
       "      <td>4.0</td>\n",
       "      <td>2707.0</td>\n",
       "      <td>Rainey St @ Cummings</td>\n",
       "      <td>2017-04-16 15:39:13</td>\n",
       "      <td>Walk Up</td>\n",
       "      <td>14468597</td>\n",
       "      <td>2017.0</td>\n",
       "    </tr>\n",
       "  </tbody>\n",
       "</table>\n",
       "</div>"
      ],
      "text/plain": [
       "   bikeid checkout_time  duration_minutes  end_station_id  \\\n",
       "0     8.0      19:12:00                41          2565.0   \n",
       "1   141.0       2:06:04                 6          2570.0   \n",
       "2   578.0      16:28:27                13          2498.0   \n",
       "3   555.0      15:12:00                80          2712.0   \n",
       "4    86.0      15:39:13                25          3377.0   \n",
       "\n",
       "                           end_station_name  month  start_station_id  \\\n",
       "0                      Trinity & 6th Street    3.0            2536.0   \n",
       "1                  South Congress & Academy   10.0            2494.0   \n",
       "2   Convention Center / 4th St. @ MetroRail    3.0            2538.0   \n",
       "3                   Toomey Rd @ South Lamar   11.0            2497.0   \n",
       "4  MoPac Pedestrian Bridge @ Veterans Drive    4.0            2707.0   \n",
       "\n",
       "                  start_station_name           start_time  \\\n",
       "0                   Waller & 6th St.  2015-03-19 19:12:00   \n",
       "1                     2nd & Congress  2016-10-30 02:06:04   \n",
       "2    Bullock Museum @ Congress & MLK  2016-03-11 16:28:27   \n",
       "3  Capitol Station / Congress & 11th  2014-11-23 15:12:00   \n",
       "4               Rainey St @ Cummings  2017-04-16 15:39:13   \n",
       "\n",
       "                  subscriber_type     trip_id    year  \n",
       "0                         Walk Up  9900082882  2015.0  \n",
       "1                        Local365    12617682  2016.0  \n",
       "2                        Local365     9075366  2016.0  \n",
       "3  24-Hour Kiosk (Austin B-cycle)  9900319298  2014.0  \n",
       "4                         Walk Up    14468597  2017.0  "
      ]
     },
     "execution_count": 101,
     "metadata": {},
     "output_type": "execute_result"
    }
   ],
   "source": [
    "df.head()"
   ]
  },
  {
   "cell_type": "markdown",
   "metadata": {},
   "source": [
    "We can quickly compute summary statistics on our DataFrame with the `.describe()` method."
   ]
  },
  {
   "cell_type": "code",
   "execution_count": 102,
   "metadata": {},
   "outputs": [
    {
     "data": {
      "text/html": [
       "<div>\n",
       "<style>\n",
       "    .dataframe thead tr:only-child th {\n",
       "        text-align: right;\n",
       "    }\n",
       "\n",
       "    .dataframe thead th {\n",
       "        text-align: left;\n",
       "    }\n",
       "\n",
       "    .dataframe tbody tr th {\n",
       "        vertical-align: top;\n",
       "    }\n",
       "</style>\n",
       "<table border=\"1\" class=\"dataframe\">\n",
       "  <thead>\n",
       "    <tr style=\"text-align: right;\">\n",
       "      <th></th>\n",
       "      <th>bikeid</th>\n",
       "      <th>duration_minutes</th>\n",
       "      <th>end_station_id</th>\n",
       "      <th>month</th>\n",
       "      <th>start_station_id</th>\n",
       "      <th>trip_id</th>\n",
       "      <th>year</th>\n",
       "    </tr>\n",
       "  </thead>\n",
       "  <tbody>\n",
       "    <tr>\n",
       "      <th>count</th>\n",
       "      <td>648508.000000</td>\n",
       "      <td>649231.000000</td>\n",
       "      <td>629389.000000</td>\n",
       "      <td>618479.000000</td>\n",
       "      <td>630190.000000</td>\n",
       "      <td>6.492310e+05</td>\n",
       "      <td>618479.000000</td>\n",
       "    </tr>\n",
       "    <tr>\n",
       "      <th>mean</th>\n",
       "      <td>471.615214</td>\n",
       "      <td>29.127506</td>\n",
       "      <td>2582.470617</td>\n",
       "      <td>5.887185</td>\n",
       "      <td>2584.238288</td>\n",
       "      <td>5.384945e+09</td>\n",
       "      <td>2015.340026</td>\n",
       "    </tr>\n",
       "    <tr>\n",
       "      <th>std</th>\n",
       "      <td>323.588379</td>\n",
       "      <td>87.278642</td>\n",
       "      <td>319.898534</td>\n",
       "      <td>3.206358</td>\n",
       "      <td>320.840964</td>\n",
       "      <td>4.925349e+09</td>\n",
       "      <td>1.019771</td>\n",
       "    </tr>\n",
       "    <tr>\n",
       "      <th>min</th>\n",
       "      <td>3.000000</td>\n",
       "      <td>0.000000</td>\n",
       "      <td>1001.000000</td>\n",
       "      <td>1.000000</td>\n",
       "      <td>1001.000000</td>\n",
       "      <td>8.269930e+06</td>\n",
       "      <td>2013.000000</td>\n",
       "    </tr>\n",
       "    <tr>\n",
       "      <th>25%</th>\n",
       "      <td>208.000000</td>\n",
       "      <td>8.000000</td>\n",
       "      <td>2499.000000</td>\n",
       "      <td>3.000000</td>\n",
       "      <td>2501.000000</td>\n",
       "      <td>1.274709e+07</td>\n",
       "      <td>2014.000000</td>\n",
       "    </tr>\n",
       "    <tr>\n",
       "      <th>50%</th>\n",
       "      <td>417.000000</td>\n",
       "      <td>15.000000</td>\n",
       "      <td>2548.000000</td>\n",
       "      <td>5.000000</td>\n",
       "      <td>2549.000000</td>\n",
       "      <td>9.900028e+09</td>\n",
       "      <td>2015.000000</td>\n",
       "    </tr>\n",
       "    <tr>\n",
       "      <th>75%</th>\n",
       "      <td>745.000000</td>\n",
       "      <td>28.000000</td>\n",
       "      <td>2571.000000</td>\n",
       "      <td>9.000000</td>\n",
       "      <td>2571.000000</td>\n",
       "      <td>9.900190e+09</td>\n",
       "      <td>2016.000000</td>\n",
       "    </tr>\n",
       "    <tr>\n",
       "      <th>max</th>\n",
       "      <td>5089.000000</td>\n",
       "      <td>21296.000000</td>\n",
       "      <td>3687.000000</td>\n",
       "      <td>12.000000</td>\n",
       "      <td>3687.000000</td>\n",
       "      <td>9.900353e+09</td>\n",
       "      <td>2017.000000</td>\n",
       "    </tr>\n",
       "  </tbody>\n",
       "</table>\n",
       "</div>"
      ],
      "text/plain": [
       "              bikeid  duration_minutes  end_station_id          month  \\\n",
       "count  648508.000000     649231.000000   629389.000000  618479.000000   \n",
       "mean      471.615214         29.127506     2582.470617       5.887185   \n",
       "std       323.588379         87.278642      319.898534       3.206358   \n",
       "min         3.000000          0.000000     1001.000000       1.000000   \n",
       "25%       208.000000          8.000000     2499.000000       3.000000   \n",
       "50%       417.000000         15.000000     2548.000000       5.000000   \n",
       "75%       745.000000         28.000000     2571.000000       9.000000   \n",
       "max      5089.000000      21296.000000     3687.000000      12.000000   \n",
       "\n",
       "       start_station_id       trip_id           year  \n",
       "count     630190.000000  6.492310e+05  618479.000000  \n",
       "mean        2584.238288  5.384945e+09    2015.340026  \n",
       "std          320.840964  4.925349e+09       1.019771  \n",
       "min         1001.000000  8.269930e+06    2013.000000  \n",
       "25%         2501.000000  1.274709e+07    2014.000000  \n",
       "50%         2549.000000  9.900028e+09    2015.000000  \n",
       "75%         2571.000000  9.900190e+09    2016.000000  \n",
       "max         3687.000000  9.900353e+09    2017.000000  "
      ]
     },
     "execution_count": 102,
     "metadata": {},
     "output_type": "execute_result"
    }
   ],
   "source": [
    "df.describe()"
   ]
  },
  {
   "cell_type": "markdown",
   "metadata": {},
   "source": [
    "Notice the minimum and maximum values achieved in the **duration_minutes** column.\n",
    "\n",
    "The minimum value is 0 minutes. These could be an incorrect value, or it could be a correct value for rides that were terminated immediately after starting. The maximum value is 21296, which is a trip lasting over 350 hours! This is almost certainly an error. This table also shows that 75% of the trips within the dataset last less than 28 minutes.\n",
    "\n",
    "\n",
    "We should examine what fraction of the dataset contains anomalous rides and decide how to treat these rows."
   ]
  },
  {
   "cell_type": "code",
   "execution_count": 103,
   "metadata": {},
   "outputs": [
    {
     "name": "stdout",
     "output_type": "stream",
     "text": [
      "1.7% of trips in raw data are 0 minutes in duration\n"
     ]
    }
   ],
   "source": [
    "duration_0_mins = df[df['duration_minutes'] == 0]\n",
    "frac_of_dataset = 100 * len(duration_0_mins) / len(df)\n",
    "\n",
    "print('{0:.1f}% of trips in raw data are 0 minutes in duration'.format(frac_of_dataset))"
   ]
  },
  {
   "cell_type": "markdown",
   "metadata": {},
   "source": [
    "As such a small fraction of the dataset contains rides of 0 minute duration, lets filter these trips out, thereby treating them as invalid rides."
   ]
  },
  {
   "cell_type": "code",
   "execution_count": 104,
   "metadata": {
    "collapsed": true
   },
   "outputs": [],
   "source": [
    "# Remove any trip with 0 minute duration\n",
    "df = df[df['duration_minutes'] > 0]\n",
    "\n",
    "# Reset the integer based index of the DataFrame\n",
    "df.reset_index(drop=True, inplace=True)"
   ]
  },
  {
   "cell_type": "markdown",
   "metadata": {},
   "source": [
    "Lets do the same for trips lasting longer than 2 hours."
   ]
  },
  {
   "cell_type": "code",
   "execution_count": 105,
   "metadata": {},
   "outputs": [
    {
     "name": "stdout",
     "output_type": "stream",
     "text": [
      "3.3% of trips in remaining data are greater than 120 minutes in duration\n"
     ]
    }
   ],
   "source": [
    "greater_than_2_hours = df[df['duration_minutes'] > 120]\n",
    "frac_of_dataset = 100 * len(greater_than_2_hours) / len(df)\n",
    "\n",
    "print('{0:.1f}% of trips in remaining data are greater than 120 minutes in duration'.format(frac_of_dataset))\n",
    "\n",
    "# Remove any trip lasting longer than 2 hours\n",
    "df = df[df['duration_minutes'] <= 120]\n",
    "\n",
    "# Reset the integer based index of the DataFrame\n",
    "df.reset_index(drop=True, inplace=True)"
   ]
  },
  {
   "cell_type": "markdown",
   "metadata": {},
   "source": [
    "Let's spend some time examining the **start_time** column, which tells us when individual bike trips started. \n",
    "\n",
    "First, let's convert the string based column to a datetime type, and then let's look at counts of trips by start time hour."
   ]
  },
  {
   "cell_type": "code",
   "execution_count": 106,
   "metadata": {
    "collapsed": true
   },
   "outputs": [],
   "source": [
    "# convert start_time column to datetime type\n",
    "df['start_time'] = pd.to_datetime(df['start_time'])"
   ]
  },
  {
   "cell_type": "code",
   "execution_count": 107,
   "metadata": {
    "collapsed": true
   },
   "outputs": [],
   "source": [
    "# Pull out hour of day into a seperate column\n",
    "df['start_hour'] = df['start_time'].apply(lambda t: t.hour)"
   ]
  },
  {
   "cell_type": "code",
   "execution_count": 109,
   "metadata": {},
   "outputs": [
    {
     "data": {
      "text/html": [
       "<div>\n",
       "<style>\n",
       "    .dataframe thead tr:only-child th {\n",
       "        text-align: right;\n",
       "    }\n",
       "\n",
       "    .dataframe thead th {\n",
       "        text-align: left;\n",
       "    }\n",
       "\n",
       "    .dataframe tbody tr th {\n",
       "        vertical-align: top;\n",
       "    }\n",
       "</style>\n",
       "<table border=\"1\" class=\"dataframe\">\n",
       "  <thead>\n",
       "    <tr style=\"text-align: right;\">\n",
       "      <th></th>\n",
       "      <th>index</th>\n",
       "      <th>start_hour</th>\n",
       "    </tr>\n",
       "  </thead>\n",
       "  <tbody>\n",
       "    <tr>\n",
       "      <th>0</th>\n",
       "      <td>0</td>\n",
       "      <td>7215</td>\n",
       "    </tr>\n",
       "    <tr>\n",
       "      <th>1</th>\n",
       "      <td>1</td>\n",
       "      <td>4968</td>\n",
       "    </tr>\n",
       "    <tr>\n",
       "      <th>2</th>\n",
       "      <td>2</td>\n",
       "      <td>4946</td>\n",
       "    </tr>\n",
       "    <tr>\n",
       "      <th>3</th>\n",
       "      <td>3</td>\n",
       "      <td>971</td>\n",
       "    </tr>\n",
       "    <tr>\n",
       "      <th>4</th>\n",
       "      <td>4</td>\n",
       "      <td>654</td>\n",
       "    </tr>\n",
       "  </tbody>\n",
       "</table>\n",
       "</div>"
      ],
      "text/plain": [
       "   index  start_hour\n",
       "0      0        7215\n",
       "1      1        4968\n",
       "2      2        4946\n",
       "3      3         971\n",
       "4      4         654"
      ]
     },
     "execution_count": 109,
     "metadata": {},
     "output_type": "execute_result"
    }
   ],
   "source": [
    "# Count the number of trips that start by hour\n",
    "hourly_counts = df['start_hour'].value_counts()\n",
    "\n",
    "# reorder by hour of day\n",
    "hourly_counts.sort_index(inplace=True)\n",
    "\n",
    "# Return a DataFrame with the index as an additional column\n",
    "hourly_counts_df = hourly_counts.reset_index()\n",
    "\n",
    "# preview it for ease of understanding\n",
    "hourly_counts_df.head()"
   ]
  },
  {
   "cell_type": "code",
   "execution_count": 110,
   "metadata": {},
   "outputs": [
    {
     "data": {
      "image/png": "[encoded data removed]",
      "text/plain": [
       "<matplotlib.figure.Figure at 0x1206076a0>"
      ]
     },
     "metadata": {},
     "output_type": "display_data"
    }
   ],
   "source": [
    "ax = sns.barplot(x='index', y='start_hour', data=hourly_counts_df, color='teal')\n",
    "\n",
    "ax.figure.set_size_inches(14,8)\n",
    "ax.set_title('Number of trips by hour of the day')\n",
    "ax.set_xlabel('Hour of day')\n",
    "ax.set_ylabel('Frequency')\n",
    "\n",
    "plt.show()"
   ]
  },
  {
   "cell_type": "markdown",
   "metadata": {},
   "source": [
    "Voila!\n",
    "\n",
    "Does this histogram make sense? What is it telling us? Does the behavior characterized in the plot demonstrate behavior your might expect?\n",
    "\n",
    "Here we've plotted counts of number of trips by hour. We can visualize the **duration_minutes** column in a similar way, by binning the column into 5 minute bins."
   ]
  },
  {
   "cell_type": "code",
   "execution_count": 111,
   "metadata": {},
   "outputs": [
    {
     "data": {
      "image/png": "[encoded data removed]",
      "text/plain": [
       "<matplotlib.figure.Figure at 0x10e2b93c8>"
      ]
     },
     "metadata": {},
     "output_type": "display_data"
    }
   ],
   "source": [
    "# Select the bin intervals\n",
    "bins = np.arange(0,125,5)\n",
    "\n",
    "# Return indices of half-open bins to which each value of column belongs.\n",
    "duration_min_intervals = pd.cut(df['duration_minutes'], bins=bins, include_lowest=True)\n",
    "five_minute_counts = duration_min_intervals.value_counts(sort=False)\n",
    "\n",
    "# Create the plot\n",
    "ax = five_minute_counts.plot.bar(rot=90, figsize=(16, 6))\n",
    "\n",
    "# Formatting\n",
    "ax.set_title('Number of trips by duration')\n",
    "ax.set_xlabel('Duration (minutes)')\n",
    "ax.set_ylabel('Counts')\n",
    "\n",
    "# Format x tick labels\n",
    "labels = ['{}-{}'.format(bins[i], bins[i+1]) for i in range(len(bins)-1)]\n",
    "ax.set_xticklabels(labels)\n",
    "\n",
    "plt.show()"
   ]
  },
  {
   "cell_type": "markdown",
   "metadata": {},
   "source": [
    "An interesting question in this dataset is whether ridership patterns vary on different days of the week. We can begin to examine this by comparing the mean trip trip duration for each day of the week. This will also allow us to examine the mean trip duration for weekdays versus weekend trips."
   ]
  },
  {
   "cell_type": "code",
   "execution_count": 112,
   "metadata": {
    "collapsed": true
   },
   "outputs": [],
   "source": [
    "# Pull out start day of the week into a seperate column where Monday=0, Sunday=6\n",
    "df['start_day_of_week'] = df['start_time'].apply(lambda t: t.dayofweek)"
   ]
  },
  {
   "cell_type": "code",
   "execution_count": 113,
   "metadata": {},
   "outputs": [
    {
     "data": {
      "text/html": [
       "<div>\n",
       "<style>\n",
       "    .dataframe thead tr:only-child th {\n",
       "        text-align: right;\n",
       "    }\n",
       "\n",
       "    .dataframe thead th {\n",
       "        text-align: left;\n",
       "    }\n",
       "\n",
       "    .dataframe tbody tr th {\n",
       "        vertical-align: top;\n",
       "    }\n",
       "</style>\n",
       "<table border=\"1\" class=\"dataframe\">\n",
       "  <thead>\n",
       "    <tr style=\"text-align: right;\">\n",
       "      <th></th>\n",
       "      <th>count</th>\n",
       "      <th>mean</th>\n",
       "      <th>std</th>\n",
       "      <th>min</th>\n",
       "      <th>25%</th>\n",
       "      <th>50%</th>\n",
       "      <th>75%</th>\n",
       "      <th>max</th>\n",
       "    </tr>\n",
       "    <tr>\n",
       "      <th>start_day_of_week</th>\n",
       "      <th></th>\n",
       "      <th></th>\n",
       "      <th></th>\n",
       "      <th></th>\n",
       "      <th></th>\n",
       "      <th></th>\n",
       "      <th></th>\n",
       "      <th></th>\n",
       "    </tr>\n",
       "  </thead>\n",
       "  <tbody>\n",
       "    <tr>\n",
       "      <th>0</th>\n",
       "      <td>74269.0</td>\n",
       "      <td>19.775236</td>\n",
       "      <td>20.098680</td>\n",
       "      <td>1.0</td>\n",
       "      <td>7.0</td>\n",
       "      <td>13.0</td>\n",
       "      <td>24.0</td>\n",
       "      <td>120.0</td>\n",
       "    </tr>\n",
       "    <tr>\n",
       "      <th>1</th>\n",
       "      <td>65626.0</td>\n",
       "      <td>17.606604</td>\n",
       "      <td>18.937446</td>\n",
       "      <td>1.0</td>\n",
       "      <td>6.0</td>\n",
       "      <td>11.0</td>\n",
       "      <td>21.0</td>\n",
       "      <td>120.0</td>\n",
       "    </tr>\n",
       "    <tr>\n",
       "      <th>2</th>\n",
       "      <td>67188.0</td>\n",
       "      <td>17.403703</td>\n",
       "      <td>18.351631</td>\n",
       "      <td>1.0</td>\n",
       "      <td>6.0</td>\n",
       "      <td>11.0</td>\n",
       "      <td>21.0</td>\n",
       "      <td>120.0</td>\n",
       "    </tr>\n",
       "    <tr>\n",
       "      <th>3</th>\n",
       "      <td>72337.0</td>\n",
       "      <td>18.139140</td>\n",
       "      <td>19.004834</td>\n",
       "      <td>1.0</td>\n",
       "      <td>7.0</td>\n",
       "      <td>11.0</td>\n",
       "      <td>22.0</td>\n",
       "      <td>120.0</td>\n",
       "    </tr>\n",
       "    <tr>\n",
       "      <th>4</th>\n",
       "      <td>97297.0</td>\n",
       "      <td>20.706024</td>\n",
       "      <td>20.095758</td>\n",
       "      <td>1.0</td>\n",
       "      <td>8.0</td>\n",
       "      <td>14.0</td>\n",
       "      <td>25.0</td>\n",
       "      <td>120.0</td>\n",
       "    </tr>\n",
       "    <tr>\n",
       "      <th>5</th>\n",
       "      <td>132552.0</td>\n",
       "      <td>25.336313</td>\n",
       "      <td>22.268594</td>\n",
       "      <td>1.0</td>\n",
       "      <td>11.0</td>\n",
       "      <td>18.0</td>\n",
       "      <td>30.0</td>\n",
       "      <td>120.0</td>\n",
       "    </tr>\n",
       "    <tr>\n",
       "      <th>6</th>\n",
       "      <td>107812.0</td>\n",
       "      <td>25.305263</td>\n",
       "      <td>22.508104</td>\n",
       "      <td>1.0</td>\n",
       "      <td>10.0</td>\n",
       "      <td>18.0</td>\n",
       "      <td>31.0</td>\n",
       "      <td>120.0</td>\n",
       "    </tr>\n",
       "  </tbody>\n",
       "</table>\n",
       "</div>"
      ],
      "text/plain": [
       "                      count       mean        std  min   25%   50%   75%  \\\n",
       "start_day_of_week                                                          \n",
       "0                   74269.0  19.775236  20.098680  1.0   7.0  13.0  24.0   \n",
       "1                   65626.0  17.606604  18.937446  1.0   6.0  11.0  21.0   \n",
       "2                   67188.0  17.403703  18.351631  1.0   6.0  11.0  21.0   \n",
       "3                   72337.0  18.139140  19.004834  1.0   7.0  11.0  22.0   \n",
       "4                   97297.0  20.706024  20.095758  1.0   8.0  14.0  25.0   \n",
       "5                  132552.0  25.336313  22.268594  1.0  11.0  18.0  30.0   \n",
       "6                  107812.0  25.305263  22.508104  1.0  10.0  18.0  31.0   \n",
       "\n",
       "                     max  \n",
       "start_day_of_week         \n",
       "0                  120.0  \n",
       "1                  120.0  \n",
       "2                  120.0  \n",
       "3                  120.0  \n",
       "4                  120.0  \n",
       "5                  120.0  \n",
       "6                  120.0  "
      ]
     },
     "execution_count": 113,
     "metadata": {},
     "output_type": "execute_result"
    }
   ],
   "source": [
    "# Group the rows by the start_day_of_week and compute summary statistics\n",
    "df.groupby('start_day_of_week')['duration_minutes'].describe()"
   ]
  },
  {
   "cell_type": "markdown",
   "metadata": {},
   "source": [
    "Notice that the mean and median trip durations for Saturday and Sunday are larger than those for the remaining days of the week. \n",
    "\n",
    "We can visualize these differences by day by incorporating some of the plots from Chapter 1 of OpenStats. As we are comparing numerical data (trip duration) across categories (days of the week), let's use violin plots, which are similar to box plots."
   ]
  },
  {
   "cell_type": "code",
   "execution_count": 114,
   "metadata": {},
   "outputs": [
    {
     "data": {
      "image/png": "[encoded data removed]",
      "text/plain": [
       "<matplotlib.figure.Figure at 0x10bade7b8>"
      ]
     },
     "metadata": {},
     "output_type": "display_data"
    }
   ],
   "source": [
    "days = ['Monday', 'Tuesday', 'Wednesday', 'Thursday', 'Friday', 'Saturday', 'Sunday']\n",
    "\n",
    "fig, ax = plt.subplots(nrows=1, ncols=1, figsize=(16, 6))\n",
    "\n",
    "sns.violinplot(x=\"start_day_of_week\", y=\"duration_minutes\", data=df, ax=ax)\n",
    "\n",
    "ax.set_title('Trip duration in minutes by day of week')\n",
    "ax.set_xlabel('Day of week')\n",
    "ax.set_ylabel('Duration (minutes)')\n",
    "ax.set_xticklabels(days)\n",
    "\n",
    "plt.show()"
   ]
  },
  {
   "cell_type": "markdown",
   "metadata": {},
   "source": [
    "This violin plot demonstrates the difference in trip durations by day of the week.\n",
    "\n",
    "First, we notice that the distribution of trip durations ocurring during weekday trips are similar in both the shape of the distribution (unimodal, similar centers, right skewed) and the median duration. This shape flattens out a bit on Fridays and is flattest on Saturday and Sunday, demonstrating higher variability. The median trip duration also increases on Friday and is highest on Saturday and Sunday, which continues to point towards different ridership patterns on weekdays versus weekends.\n",
    "\n",
    "In fact, we might begin to characterize weekend bike rides as being more \"joy ride-esque\", as these trips tend to be longer than typical weekday rides."
   ]
  },
  {
   "cell_type": "code",
   "execution_count": null,
   "metadata": {
    "collapsed": true
   },
   "outputs": [],
   "source": []
  }
 ],
 "metadata": {
  "kernelspec": {
   "display_name": "Python 3",
   "language": "python",
   "name": "python3"
  },
  "language_info": {
   "codemirror_mode": {
    "name": "ipython",
    "version": 3
   },
   "file_extension": ".py",
   "mimetype": "text/x-python",
   "name": "python",
   "nbconvert_exporter": "python",
   "pygments_lexer": "ipython3",
   "version": "3.6.2"
  }
 },
 "nbformat": 4,
 "nbformat_minor": 2
}
